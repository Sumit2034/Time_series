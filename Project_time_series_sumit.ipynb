{
 "cells": [
  {
   "cell_type": "code",
   "execution_count": 1,
   "metadata": {},
   "outputs": [],
   "source": [
    "import pandas as pd\n",
    "import numpy as np\n",
    "import matplotlib.pylab as plt\n",
    "%matplotlib inline\n",
    "from matplotlib.pylab import rcParams\n",
    "rcParams['figure.figsize'] = 15, 6\n",
    "import seaborn as sns"
   ]
  },
  {
   "cell_type": "code",
   "execution_count": 2,
   "metadata": {},
   "outputs": [],
   "source": [
    "store = pd.read_csv(\"Super_Store.csv\")"
   ]
  },
  {
   "cell_type": "code",
   "execution_count": 3,
   "metadata": {},
   "outputs": [
    {
     "data": {
      "text/html": [
       "<div>\n",
       "<style scoped>\n",
       "    .dataframe tbody tr th:only-of-type {\n",
       "        vertical-align: middle;\n",
       "    }\n",
       "\n",
       "    .dataframe tbody tr th {\n",
       "        vertical-align: top;\n",
       "    }\n",
       "\n",
       "    .dataframe thead th {\n",
       "        text-align: right;\n",
       "    }\n",
       "</style>\n",
       "<table border=\"1\" class=\"dataframe\">\n",
       "  <thead>\n",
       "    <tr style=\"text-align: right;\">\n",
       "      <th></th>\n",
       "      <th>Row ID</th>\n",
       "      <th>Order ID</th>\n",
       "      <th>Order Date</th>\n",
       "      <th>Ship Date</th>\n",
       "      <th>Ship Mode</th>\n",
       "      <th>Customer ID</th>\n",
       "      <th>Customer Name</th>\n",
       "      <th>Segment</th>\n",
       "      <th>Country</th>\n",
       "      <th>City</th>\n",
       "      <th>...</th>\n",
       "      <th>Postal Code</th>\n",
       "      <th>Region</th>\n",
       "      <th>Product ID</th>\n",
       "      <th>Category</th>\n",
       "      <th>Sub-Category</th>\n",
       "      <th>Product Name</th>\n",
       "      <th>Sales</th>\n",
       "      <th>Quantity</th>\n",
       "      <th>Discount</th>\n",
       "      <th>Profit</th>\n",
       "    </tr>\n",
       "  </thead>\n",
       "  <tbody>\n",
       "    <tr>\n",
       "      <th>0</th>\n",
       "      <td>1</td>\n",
       "      <td>CA-2016-152156</td>\n",
       "      <td>11-08-2016</td>\n",
       "      <td>11-11-2016</td>\n",
       "      <td>Second Class</td>\n",
       "      <td>CG-12520</td>\n",
       "      <td>Claire Gute</td>\n",
       "      <td>Consumer</td>\n",
       "      <td>United States</td>\n",
       "      <td>Henderson</td>\n",
       "      <td>...</td>\n",
       "      <td>42420</td>\n",
       "      <td>South</td>\n",
       "      <td>FUR-BO-10001798</td>\n",
       "      <td>Furniture</td>\n",
       "      <td>Bookcases</td>\n",
       "      <td>Bush Somerset Collection Bookcase</td>\n",
       "      <td>261.9600</td>\n",
       "      <td>2</td>\n",
       "      <td>0.00</td>\n",
       "      <td>41.9136</td>\n",
       "    </tr>\n",
       "    <tr>\n",
       "      <th>1</th>\n",
       "      <td>2</td>\n",
       "      <td>CA-2016-152156</td>\n",
       "      <td>11-08-2016</td>\n",
       "      <td>11-11-2016</td>\n",
       "      <td>Second Class</td>\n",
       "      <td>CG-12520</td>\n",
       "      <td>Claire Gute</td>\n",
       "      <td>Consumer</td>\n",
       "      <td>United States</td>\n",
       "      <td>Henderson</td>\n",
       "      <td>...</td>\n",
       "      <td>42420</td>\n",
       "      <td>South</td>\n",
       "      <td>FUR-CH-10000454</td>\n",
       "      <td>Furniture</td>\n",
       "      <td>Chairs</td>\n",
       "      <td>Hon Deluxe Fabric Upholstered Stacking Chairs,...</td>\n",
       "      <td>731.9400</td>\n",
       "      <td>3</td>\n",
       "      <td>0.00</td>\n",
       "      <td>219.5820</td>\n",
       "    </tr>\n",
       "    <tr>\n",
       "      <th>2</th>\n",
       "      <td>4</td>\n",
       "      <td>US-2015-108966</td>\n",
       "      <td>10-11-2015</td>\n",
       "      <td>10/18/2015</td>\n",
       "      <td>Standard Class</td>\n",
       "      <td>SO-20335</td>\n",
       "      <td>Sean O'Donnell</td>\n",
       "      <td>Consumer</td>\n",
       "      <td>United States</td>\n",
       "      <td>Fort Lauderdale</td>\n",
       "      <td>...</td>\n",
       "      <td>33311</td>\n",
       "      <td>South</td>\n",
       "      <td>FUR-TA-10000577</td>\n",
       "      <td>Furniture</td>\n",
       "      <td>Tables</td>\n",
       "      <td>Bretford CR4500 Series Slim Rectangular Table</td>\n",
       "      <td>957.5775</td>\n",
       "      <td>5</td>\n",
       "      <td>0.45</td>\n",
       "      <td>-383.0310</td>\n",
       "    </tr>\n",
       "    <tr>\n",
       "      <th>3</th>\n",
       "      <td>6</td>\n",
       "      <td>CA-2014-115812</td>\n",
       "      <td>06-09-2014</td>\n",
       "      <td>6/14/2014</td>\n",
       "      <td>Standard Class</td>\n",
       "      <td>BH-11710</td>\n",
       "      <td>Brosina Hoffman</td>\n",
       "      <td>Consumer</td>\n",
       "      <td>United States</td>\n",
       "      <td>Los Angeles</td>\n",
       "      <td>...</td>\n",
       "      <td>90032</td>\n",
       "      <td>West</td>\n",
       "      <td>FUR-FU-10001487</td>\n",
       "      <td>Furniture</td>\n",
       "      <td>Furnishings</td>\n",
       "      <td>Eldon Expressions Wood and Plastic Desk Access...</td>\n",
       "      <td>48.8600</td>\n",
       "      <td>7</td>\n",
       "      <td>0.00</td>\n",
       "      <td>14.1694</td>\n",
       "    </tr>\n",
       "    <tr>\n",
       "      <th>4</th>\n",
       "      <td>11</td>\n",
       "      <td>CA-2014-115812</td>\n",
       "      <td>06-09-2014</td>\n",
       "      <td>6/14/2014</td>\n",
       "      <td>Standard Class</td>\n",
       "      <td>BH-11710</td>\n",
       "      <td>Brosina Hoffman</td>\n",
       "      <td>Consumer</td>\n",
       "      <td>United States</td>\n",
       "      <td>Los Angeles</td>\n",
       "      <td>...</td>\n",
       "      <td>90032</td>\n",
       "      <td>West</td>\n",
       "      <td>FUR-TA-10001539</td>\n",
       "      <td>Furniture</td>\n",
       "      <td>Tables</td>\n",
       "      <td>Chromcraft Rectangular Conference Tables</td>\n",
       "      <td>1706.1840</td>\n",
       "      <td>9</td>\n",
       "      <td>0.20</td>\n",
       "      <td>85.3092</td>\n",
       "    </tr>\n",
       "  </tbody>\n",
       "</table>\n",
       "<p>5 rows × 21 columns</p>\n",
       "</div>"
      ],
      "text/plain": [
       "   Row ID        Order ID  Order Date   Ship Date       Ship Mode Customer ID  \\\n",
       "0       1  CA-2016-152156  11-08-2016  11-11-2016    Second Class    CG-12520   \n",
       "1       2  CA-2016-152156  11-08-2016  11-11-2016    Second Class    CG-12520   \n",
       "2       4  US-2015-108966  10-11-2015  10/18/2015  Standard Class    SO-20335   \n",
       "3       6  CA-2014-115812  06-09-2014   6/14/2014  Standard Class    BH-11710   \n",
       "4      11  CA-2014-115812  06-09-2014   6/14/2014  Standard Class    BH-11710   \n",
       "\n",
       "     Customer Name   Segment        Country             City  ... Postal Code  \\\n",
       "0      Claire Gute  Consumer  United States        Henderson  ...       42420   \n",
       "1      Claire Gute  Consumer  United States        Henderson  ...       42420   \n",
       "2   Sean O'Donnell  Consumer  United States  Fort Lauderdale  ...       33311   \n",
       "3  Brosina Hoffman  Consumer  United States      Los Angeles  ...       90032   \n",
       "4  Brosina Hoffman  Consumer  United States      Los Angeles  ...       90032   \n",
       "\n",
       "   Region       Product ID   Category Sub-Category  \\\n",
       "0   South  FUR-BO-10001798  Furniture    Bookcases   \n",
       "1   South  FUR-CH-10000454  Furniture       Chairs   \n",
       "2   South  FUR-TA-10000577  Furniture       Tables   \n",
       "3    West  FUR-FU-10001487  Furniture  Furnishings   \n",
       "4    West  FUR-TA-10001539  Furniture       Tables   \n",
       "\n",
       "                                        Product Name      Sales  Quantity  \\\n",
       "0                  Bush Somerset Collection Bookcase   261.9600         2   \n",
       "1  Hon Deluxe Fabric Upholstered Stacking Chairs,...   731.9400         3   \n",
       "2      Bretford CR4500 Series Slim Rectangular Table   957.5775         5   \n",
       "3  Eldon Expressions Wood and Plastic Desk Access...    48.8600         7   \n",
       "4           Chromcraft Rectangular Conference Tables  1706.1840         9   \n",
       "\n",
       "   Discount    Profit  \n",
       "0      0.00   41.9136  \n",
       "1      0.00  219.5820  \n",
       "2      0.45 -383.0310  \n",
       "3      0.00   14.1694  \n",
       "4      0.20   85.3092  \n",
       "\n",
       "[5 rows x 21 columns]"
      ]
     },
     "execution_count": 3,
     "metadata": {},
     "output_type": "execute_result"
    }
   ],
   "source": [
    "store.head()"
   ]
  },
  {
   "cell_type": "code",
   "execution_count": 4,
   "metadata": {},
   "outputs": [
    {
     "name": "stdout",
     "output_type": "stream",
     "text": [
      "<class 'pandas.core.frame.DataFrame'>\n",
      "RangeIndex: 2121 entries, 0 to 2120\n",
      "Data columns (total 21 columns):\n",
      " #   Column         Non-Null Count  Dtype  \n",
      "---  ------         --------------  -----  \n",
      " 0   Row ID         2121 non-null   int64  \n",
      " 1   Order ID       2121 non-null   object \n",
      " 2   Order Date     2121 non-null   object \n",
      " 3   Ship Date      2121 non-null   object \n",
      " 4   Ship Mode      2121 non-null   object \n",
      " 5   Customer ID    2121 non-null   object \n",
      " 6   Customer Name  2121 non-null   object \n",
      " 7   Segment        2121 non-null   object \n",
      " 8   Country        2121 non-null   object \n",
      " 9   City           2121 non-null   object \n",
      " 10  State          2121 non-null   object \n",
      " 11  Postal Code    2121 non-null   int64  \n",
      " 12  Region         2121 non-null   object \n",
      " 13  Product ID     2121 non-null   object \n",
      " 14  Category       2121 non-null   object \n",
      " 15  Sub-Category   2121 non-null   object \n",
      " 16  Product Name   2121 non-null   object \n",
      " 17  Sales          2121 non-null   float64\n",
      " 18  Quantity       2121 non-null   int64  \n",
      " 19  Discount       2121 non-null   float64\n",
      " 20  Profit         2121 non-null   float64\n",
      "dtypes: float64(3), int64(3), object(15)\n",
      "memory usage: 348.1+ KB\n"
     ]
    }
   ],
   "source": [
    "#dtype information\n",
    "store.info()"
   ]
  },
  {
   "cell_type": "code",
   "execution_count": 5,
   "metadata": {},
   "outputs": [
    {
     "data": {
      "text/html": [
       "<div>\n",
       "<style scoped>\n",
       "    .dataframe tbody tr th:only-of-type {\n",
       "        vertical-align: middle;\n",
       "    }\n",
       "\n",
       "    .dataframe tbody tr th {\n",
       "        vertical-align: top;\n",
       "    }\n",
       "\n",
       "    .dataframe thead th {\n",
       "        text-align: right;\n",
       "    }\n",
       "</style>\n",
       "<table border=\"1\" class=\"dataframe\">\n",
       "  <thead>\n",
       "    <tr style=\"text-align: right;\">\n",
       "      <th></th>\n",
       "      <th>count</th>\n",
       "      <th>mean</th>\n",
       "      <th>std</th>\n",
       "      <th>min</th>\n",
       "      <th>25%</th>\n",
       "      <th>50%</th>\n",
       "      <th>75%</th>\n",
       "      <th>max</th>\n",
       "    </tr>\n",
       "  </thead>\n",
       "  <tbody>\n",
       "    <tr>\n",
       "      <th>Row ID</th>\n",
       "      <td>2121.0</td>\n",
       "      <td>5041.643564</td>\n",
       "      <td>2885.740258</td>\n",
       "      <td>1.0000</td>\n",
       "      <td>2568.000</td>\n",
       "      <td>5145.0000</td>\n",
       "      <td>7534.0000</td>\n",
       "      <td>9991.000</td>\n",
       "    </tr>\n",
       "    <tr>\n",
       "      <th>Postal Code</th>\n",
       "      <td>2121.0</td>\n",
       "      <td>55726.556341</td>\n",
       "      <td>32261.888225</td>\n",
       "      <td>1040.0000</td>\n",
       "      <td>22801.000</td>\n",
       "      <td>60505.0000</td>\n",
       "      <td>90032.0000</td>\n",
       "      <td>99301.000</td>\n",
       "    </tr>\n",
       "    <tr>\n",
       "      <th>Sales</th>\n",
       "      <td>2121.0</td>\n",
       "      <td>349.834887</td>\n",
       "      <td>503.179145</td>\n",
       "      <td>1.8920</td>\n",
       "      <td>47.040</td>\n",
       "      <td>182.2200</td>\n",
       "      <td>435.1680</td>\n",
       "      <td>4416.174</td>\n",
       "    </tr>\n",
       "    <tr>\n",
       "      <th>Quantity</th>\n",
       "      <td>2121.0</td>\n",
       "      <td>3.785007</td>\n",
       "      <td>2.251620</td>\n",
       "      <td>1.0000</td>\n",
       "      <td>2.000</td>\n",
       "      <td>3.0000</td>\n",
       "      <td>5.0000</td>\n",
       "      <td>14.000</td>\n",
       "    </tr>\n",
       "    <tr>\n",
       "      <th>Discount</th>\n",
       "      <td>2121.0</td>\n",
       "      <td>0.173923</td>\n",
       "      <td>0.181547</td>\n",
       "      <td>0.0000</td>\n",
       "      <td>0.000</td>\n",
       "      <td>0.2000</td>\n",
       "      <td>0.3000</td>\n",
       "      <td>0.700</td>\n",
       "    </tr>\n",
       "    <tr>\n",
       "      <th>Profit</th>\n",
       "      <td>2121.0</td>\n",
       "      <td>8.699327</td>\n",
       "      <td>136.049246</td>\n",
       "      <td>-1862.3124</td>\n",
       "      <td>-12.849</td>\n",
       "      <td>7.7748</td>\n",
       "      <td>33.7266</td>\n",
       "      <td>1013.127</td>\n",
       "    </tr>\n",
       "  </tbody>\n",
       "</table>\n",
       "</div>"
      ],
      "text/plain": [
       "              count          mean           std        min        25%  \\\n",
       "Row ID       2121.0   5041.643564   2885.740258     1.0000   2568.000   \n",
       "Postal Code  2121.0  55726.556341  32261.888225  1040.0000  22801.000   \n",
       "Sales        2121.0    349.834887    503.179145     1.8920     47.040   \n",
       "Quantity     2121.0      3.785007      2.251620     1.0000      2.000   \n",
       "Discount     2121.0      0.173923      0.181547     0.0000      0.000   \n",
       "Profit       2121.0      8.699327    136.049246 -1862.3124    -12.849   \n",
       "\n",
       "                    50%         75%        max  \n",
       "Row ID        5145.0000   7534.0000   9991.000  \n",
       "Postal Code  60505.0000  90032.0000  99301.000  \n",
       "Sales          182.2200    435.1680   4416.174  \n",
       "Quantity         3.0000      5.0000     14.000  \n",
       "Discount         0.2000      0.3000      0.700  \n",
       "Profit           7.7748     33.7266   1013.127  "
      ]
     },
     "execution_count": 5,
     "metadata": {},
     "output_type": "execute_result"
    }
   ],
   "source": [
    "#statistics\n",
    "store.describe().T"
   ]
  },
  {
   "cell_type": "code",
   "execution_count": 6,
   "metadata": {},
   "outputs": [
    {
     "data": {
      "text/plain": [
       "Row ID           0\n",
       "Order ID         0\n",
       "Order Date       0\n",
       "Ship Date        0\n",
       "Ship Mode        0\n",
       "Customer ID      0\n",
       "Customer Name    0\n",
       "Segment          0\n",
       "Country          0\n",
       "City             0\n",
       "State            0\n",
       "Postal Code      0\n",
       "Region           0\n",
       "Product ID       0\n",
       "Category         0\n",
       "Sub-Category     0\n",
       "Product Name     0\n",
       "Sales            0\n",
       "Quantity         0\n",
       "Discount         0\n",
       "Profit           0\n",
       "dtype: int64"
      ]
     },
     "execution_count": 6,
     "metadata": {},
     "output_type": "execute_result"
    }
   ],
   "source": [
    "#checking null values\n",
    "store.isnull().sum()"
   ]
  },
  {
   "cell_type": "code",
   "execution_count": 7,
   "metadata": {},
   "outputs": [
    {
     "name": "stderr",
     "output_type": "stream",
     "text": [
      "C:\\Users\\hp\\anaconda3\\lib\\site-packages\\seaborn\\_decorators.py:36: FutureWarning: Pass the following variable as a keyword arg: x. From version 0.12, the only valid positional argument will be `data`, and passing other arguments without an explicit keyword will result in an error or misinterpretation.\n",
      "  warnings.warn(\n"
     ]
    },
    {
     "data": {
      "text/plain": [
       "<AxesSubplot:xlabel='Segment', ylabel='count'>"
      ]
     },
     "execution_count": 7,
     "metadata": {},
     "output_type": "execute_result"
    },
    {
     "data": {
      "image/png": "[encoded data removed]",
      "text/plain": [
       "<Figure size 1080x432 with 1 Axes>"
      ]
     },
     "metadata": {
      "needs_background": "light"
     },
     "output_type": "display_data"
    }
   ],
   "source": [
    "sns.countplot(store['Segment'])"
   ]
  },
  {
   "cell_type": "code",
   "execution_count": 8,
   "metadata": {},
   "outputs": [
    {
     "data": {
      "text/plain": [
       "(2121, 21)"
      ]
     },
     "execution_count": 8,
     "metadata": {},
     "output_type": "execute_result"
    }
   ],
   "source": [
    "store.shape"
   ]
  },
  {
   "cell_type": "code",
   "execution_count": 9,
   "metadata": {},
   "outputs": [],
   "source": [
    "#chnging columnc to datetype data\n",
    "store['Order Date'] = pd.to_datetime(store['Order Date'])"
   ]
  },
  {
   "cell_type": "code",
   "execution_count": 10,
   "metadata": {},
   "outputs": [],
   "source": [
    "#sorting according to the date\n",
    "store = store.sort_values('Order Date')"
   ]
  },
  {
   "cell_type": "code",
   "execution_count": 11,
   "metadata": {},
   "outputs": [
    {
     "data": {
      "text/html": [
       "<div>\n",
       "<style scoped>\n",
       "    .dataframe tbody tr th:only-of-type {\n",
       "        vertical-align: middle;\n",
       "    }\n",
       "\n",
       "    .dataframe tbody tr th {\n",
       "        vertical-align: top;\n",
       "    }\n",
       "\n",
       "    .dataframe thead th {\n",
       "        text-align: right;\n",
       "    }\n",
       "</style>\n",
       "<table border=\"1\" class=\"dataframe\">\n",
       "  <thead>\n",
       "    <tr style=\"text-align: right;\">\n",
       "      <th></th>\n",
       "      <th>Row ID</th>\n",
       "      <th>Order ID</th>\n",
       "      <th>Order Date</th>\n",
       "      <th>Ship Date</th>\n",
       "      <th>Ship Mode</th>\n",
       "      <th>Customer ID</th>\n",
       "      <th>Customer Name</th>\n",
       "      <th>Segment</th>\n",
       "      <th>Country</th>\n",
       "      <th>City</th>\n",
       "      <th>...</th>\n",
       "      <th>Postal Code</th>\n",
       "      <th>Region</th>\n",
       "      <th>Product ID</th>\n",
       "      <th>Category</th>\n",
       "      <th>Sub-Category</th>\n",
       "      <th>Product Name</th>\n",
       "      <th>Sales</th>\n",
       "      <th>Quantity</th>\n",
       "      <th>Discount</th>\n",
       "      <th>Profit</th>\n",
       "    </tr>\n",
       "  </thead>\n",
       "  <tbody>\n",
       "    <tr>\n",
       "      <th>1577</th>\n",
       "      <td>7475</td>\n",
       "      <td>CA-2014-167199</td>\n",
       "      <td>2014-01-06</td>\n",
       "      <td>01-10-2014</td>\n",
       "      <td>Standard Class</td>\n",
       "      <td>ME-17320</td>\n",
       "      <td>Maria Etezadi</td>\n",
       "      <td>Home Office</td>\n",
       "      <td>United States</td>\n",
       "      <td>Henderson</td>\n",
       "      <td>...</td>\n",
       "      <td>42420</td>\n",
       "      <td>South</td>\n",
       "      <td>FUR-CH-10004063</td>\n",
       "      <td>Furniture</td>\n",
       "      <td>Chairs</td>\n",
       "      <td>Global Deluxe High-Back Manager's Chair</td>\n",
       "      <td>2573.820</td>\n",
       "      <td>9</td>\n",
       "      <td>0.0</td>\n",
       "      <td>746.4078</td>\n",
       "    </tr>\n",
       "    <tr>\n",
       "      <th>1626</th>\n",
       "      <td>7661</td>\n",
       "      <td>CA-2014-105417</td>\n",
       "      <td>2014-01-07</td>\n",
       "      <td>01-12-2014</td>\n",
       "      <td>Standard Class</td>\n",
       "      <td>VS-21820</td>\n",
       "      <td>Vivek Sundaresam</td>\n",
       "      <td>Consumer</td>\n",
       "      <td>United States</td>\n",
       "      <td>Huntsville</td>\n",
       "      <td>...</td>\n",
       "      <td>77340</td>\n",
       "      <td>Central</td>\n",
       "      <td>FUR-FU-10004864</td>\n",
       "      <td>Furniture</td>\n",
       "      <td>Furnishings</td>\n",
       "      <td>Howard Miller 14-1/2\" Diameter Chrome Round Wa...</td>\n",
       "      <td>76.728</td>\n",
       "      <td>3</td>\n",
       "      <td>0.6</td>\n",
       "      <td>-53.7096</td>\n",
       "    </tr>\n",
       "    <tr>\n",
       "      <th>181</th>\n",
       "      <td>867</td>\n",
       "      <td>CA-2014-149020</td>\n",
       "      <td>2014-01-10</td>\n",
       "      <td>1/15/2014</td>\n",
       "      <td>Standard Class</td>\n",
       "      <td>AJ-10780</td>\n",
       "      <td>Anthony Jacobs</td>\n",
       "      <td>Corporate</td>\n",
       "      <td>United States</td>\n",
       "      <td>Springfield</td>\n",
       "      <td>...</td>\n",
       "      <td>22153</td>\n",
       "      <td>South</td>\n",
       "      <td>FUR-FU-10000965</td>\n",
       "      <td>Furniture</td>\n",
       "      <td>Furnishings</td>\n",
       "      <td>Howard Miller 11-1/2\" Diameter Ridgewood Wall ...</td>\n",
       "      <td>51.940</td>\n",
       "      <td>1</td>\n",
       "      <td>0.0</td>\n",
       "      <td>21.2954</td>\n",
       "    </tr>\n",
       "    <tr>\n",
       "      <th>150</th>\n",
       "      <td>717</td>\n",
       "      <td>CA-2014-130092</td>\n",
       "      <td>2014-01-11</td>\n",
       "      <td>1/14/2014</td>\n",
       "      <td>First Class</td>\n",
       "      <td>SV-20365</td>\n",
       "      <td>Seth Vernon</td>\n",
       "      <td>Consumer</td>\n",
       "      <td>United States</td>\n",
       "      <td>Dover</td>\n",
       "      <td>...</td>\n",
       "      <td>19901</td>\n",
       "      <td>East</td>\n",
       "      <td>FUR-FU-10000010</td>\n",
       "      <td>Furniture</td>\n",
       "      <td>Furnishings</td>\n",
       "      <td>DAX Value U-Channel Document Frames, Easel Back</td>\n",
       "      <td>9.940</td>\n",
       "      <td>2</td>\n",
       "      <td>0.0</td>\n",
       "      <td>3.0814</td>\n",
       "    </tr>\n",
       "    <tr>\n",
       "      <th>631</th>\n",
       "      <td>2979</td>\n",
       "      <td>CA-2014-109232</td>\n",
       "      <td>2014-01-13</td>\n",
       "      <td>1/16/2014</td>\n",
       "      <td>Second Class</td>\n",
       "      <td>ND-18370</td>\n",
       "      <td>Natalie DeCherney</td>\n",
       "      <td>Consumer</td>\n",
       "      <td>United States</td>\n",
       "      <td>Mount Pleasant</td>\n",
       "      <td>...</td>\n",
       "      <td>29464</td>\n",
       "      <td>South</td>\n",
       "      <td>FUR-CH-10000422</td>\n",
       "      <td>Furniture</td>\n",
       "      <td>Chairs</td>\n",
       "      <td>Global Highback Leather Tilter in Burgundy</td>\n",
       "      <td>545.940</td>\n",
       "      <td>6</td>\n",
       "      <td>0.0</td>\n",
       "      <td>87.3504</td>\n",
       "    </tr>\n",
       "  </tbody>\n",
       "</table>\n",
       "<p>5 rows × 21 columns</p>\n",
       "</div>"
      ],
      "text/plain": [
       "      Row ID        Order ID Order Date   Ship Date       Ship Mode  \\\n",
       "1577    7475  CA-2014-167199 2014-01-06  01-10-2014  Standard Class   \n",
       "1626    7661  CA-2014-105417 2014-01-07  01-12-2014  Standard Class   \n",
       "181      867  CA-2014-149020 2014-01-10   1/15/2014  Standard Class   \n",
       "150      717  CA-2014-130092 2014-01-11   1/14/2014     First Class   \n",
       "631     2979  CA-2014-109232 2014-01-13   1/16/2014    Second Class   \n",
       "\n",
       "     Customer ID      Customer Name      Segment        Country  \\\n",
       "1577    ME-17320      Maria Etezadi  Home Office  United States   \n",
       "1626    VS-21820   Vivek Sundaresam     Consumer  United States   \n",
       "181     AJ-10780     Anthony Jacobs    Corporate  United States   \n",
       "150     SV-20365        Seth Vernon     Consumer  United States   \n",
       "631     ND-18370  Natalie DeCherney     Consumer  United States   \n",
       "\n",
       "                City  ... Postal Code   Region       Product ID   Category  \\\n",
       "1577       Henderson  ...       42420    South  FUR-CH-10004063  Furniture   \n",
       "1626      Huntsville  ...       77340  Central  FUR-FU-10004864  Furniture   \n",
       "181      Springfield  ...       22153    South  FUR-FU-10000965  Furniture   \n",
       "150            Dover  ...       19901     East  FUR-FU-10000010  Furniture   \n",
       "631   Mount Pleasant  ...       29464    South  FUR-CH-10000422  Furniture   \n",
       "\n",
       "     Sub-Category                                       Product Name  \\\n",
       "1577       Chairs            Global Deluxe High-Back Manager's Chair   \n",
       "1626  Furnishings  Howard Miller 14-1/2\" Diameter Chrome Round Wa...   \n",
       "181   Furnishings  Howard Miller 11-1/2\" Diameter Ridgewood Wall ...   \n",
       "150   Furnishings    DAX Value U-Channel Document Frames, Easel Back   \n",
       "631        Chairs         Global Highback Leather Tilter in Burgundy   \n",
       "\n",
       "         Sales  Quantity  Discount    Profit  \n",
       "1577  2573.820         9       0.0  746.4078  \n",
       "1626    76.728         3       0.6  -53.7096  \n",
       "181     51.940         1       0.0   21.2954  \n",
       "150      9.940         2       0.0    3.0814  \n",
       "631    545.940         6       0.0   87.3504  \n",
       "\n",
       "[5 rows x 21 columns]"
      ]
     },
     "execution_count": 11,
     "metadata": {},
     "output_type": "execute_result"
    }
   ],
   "source": [
    "store.head()"
   ]
  },
  {
   "cell_type": "code",
   "execution_count": 12,
   "metadata": {},
   "outputs": [
    {
     "data": {
      "text/html": [
       "<div>\n",
       "<style scoped>\n",
       "    .dataframe tbody tr th:only-of-type {\n",
       "        vertical-align: middle;\n",
       "    }\n",
       "\n",
       "    .dataframe tbody tr th {\n",
       "        vertical-align: top;\n",
       "    }\n",
       "\n",
       "    .dataframe thead th {\n",
       "        text-align: right;\n",
       "    }\n",
       "</style>\n",
       "<table border=\"1\" class=\"dataframe\">\n",
       "  <thead>\n",
       "    <tr style=\"text-align: right;\">\n",
       "      <th></th>\n",
       "      <th>Order Date</th>\n",
       "      <th>Sales</th>\n",
       "    </tr>\n",
       "  </thead>\n",
       "  <tbody>\n",
       "    <tr>\n",
       "      <th>0</th>\n",
       "      <td>2014-01-06</td>\n",
       "      <td>2573.8200</td>\n",
       "    </tr>\n",
       "    <tr>\n",
       "      <th>1</th>\n",
       "      <td>2014-01-07</td>\n",
       "      <td>76.7280</td>\n",
       "    </tr>\n",
       "    <tr>\n",
       "      <th>2</th>\n",
       "      <td>2014-01-10</td>\n",
       "      <td>51.9400</td>\n",
       "    </tr>\n",
       "    <tr>\n",
       "      <th>3</th>\n",
       "      <td>2014-01-11</td>\n",
       "      <td>9.9400</td>\n",
       "    </tr>\n",
       "    <tr>\n",
       "      <th>4</th>\n",
       "      <td>2014-01-13</td>\n",
       "      <td>879.9390</td>\n",
       "    </tr>\n",
       "    <tr>\n",
       "      <th>...</th>\n",
       "      <td>...</td>\n",
       "      <td>...</td>\n",
       "    </tr>\n",
       "    <tr>\n",
       "      <th>884</th>\n",
       "      <td>2017-12-24</td>\n",
       "      <td>1393.4940</td>\n",
       "    </tr>\n",
       "    <tr>\n",
       "      <th>885</th>\n",
       "      <td>2017-12-25</td>\n",
       "      <td>832.4540</td>\n",
       "    </tr>\n",
       "    <tr>\n",
       "      <th>886</th>\n",
       "      <td>2017-12-28</td>\n",
       "      <td>551.2568</td>\n",
       "    </tr>\n",
       "    <tr>\n",
       "      <th>887</th>\n",
       "      <td>2017-12-29</td>\n",
       "      <td>2330.7180</td>\n",
       "    </tr>\n",
       "    <tr>\n",
       "      <th>888</th>\n",
       "      <td>2017-12-30</td>\n",
       "      <td>323.1360</td>\n",
       "    </tr>\n",
       "  </tbody>\n",
       "</table>\n",
       "<p>889 rows × 2 columns</p>\n",
       "</div>"
      ],
      "text/plain": [
       "    Order Date      Sales\n",
       "0   2014-01-06  2573.8200\n",
       "1   2014-01-07    76.7280\n",
       "2   2014-01-10    51.9400\n",
       "3   2014-01-11     9.9400\n",
       "4   2014-01-13   879.9390\n",
       "..         ...        ...\n",
       "884 2017-12-24  1393.4940\n",
       "885 2017-12-25   832.4540\n",
       "886 2017-12-28   551.2568\n",
       "887 2017-12-29  2330.7180\n",
       "888 2017-12-30   323.1360\n",
       "\n",
       "[889 rows x 2 columns]"
      ]
     },
     "execution_count": 12,
     "metadata": {},
     "output_type": "execute_result"
    }
   ],
   "source": [
    "store.groupby('Order Date')['Sales'].sum().reset_index()"
   ]
  },
  {
   "cell_type": "code",
   "execution_count": 13,
   "metadata": {},
   "outputs": [],
   "source": [
    "store2 = store[['Order Date','Sales','Discount', 'Quantity', 'Profit']]"
   ]
  },
  {
   "cell_type": "code",
   "execution_count": 14,
   "metadata": {},
   "outputs": [],
   "source": [
    "store2 = store2.reset_index()"
   ]
  },
  {
   "cell_type": "code",
   "execution_count": 15,
   "metadata": {},
   "outputs": [],
   "source": [
    "store2 = store2.drop('index', axis = 1)"
   ]
  },
  {
   "cell_type": "code",
   "execution_count": 16,
   "metadata": {},
   "outputs": [
    {
     "data": {
      "text/html": [
       "<div>\n",
       "<style scoped>\n",
       "    .dataframe tbody tr th:only-of-type {\n",
       "        vertical-align: middle;\n",
       "    }\n",
       "\n",
       "    .dataframe tbody tr th {\n",
       "        vertical-align: top;\n",
       "    }\n",
       "\n",
       "    .dataframe thead th {\n",
       "        text-align: right;\n",
       "    }\n",
       "</style>\n",
       "<table border=\"1\" class=\"dataframe\">\n",
       "  <thead>\n",
       "    <tr style=\"text-align: right;\">\n",
       "      <th></th>\n",
       "      <th>Order Date</th>\n",
       "      <th>Sales</th>\n",
       "      <th>Discount</th>\n",
       "      <th>Quantity</th>\n",
       "      <th>Profit</th>\n",
       "    </tr>\n",
       "  </thead>\n",
       "  <tbody>\n",
       "    <tr>\n",
       "      <th>0</th>\n",
       "      <td>2014-01-06</td>\n",
       "      <td>2573.820</td>\n",
       "      <td>0.0</td>\n",
       "      <td>9</td>\n",
       "      <td>746.4078</td>\n",
       "    </tr>\n",
       "    <tr>\n",
       "      <th>1</th>\n",
       "      <td>2014-01-07</td>\n",
       "      <td>76.728</td>\n",
       "      <td>0.6</td>\n",
       "      <td>3</td>\n",
       "      <td>-53.7096</td>\n",
       "    </tr>\n",
       "    <tr>\n",
       "      <th>2</th>\n",
       "      <td>2014-01-10</td>\n",
       "      <td>51.940</td>\n",
       "      <td>0.0</td>\n",
       "      <td>1</td>\n",
       "      <td>21.2954</td>\n",
       "    </tr>\n",
       "    <tr>\n",
       "      <th>3</th>\n",
       "      <td>2014-01-11</td>\n",
       "      <td>9.940</td>\n",
       "      <td>0.0</td>\n",
       "      <td>2</td>\n",
       "      <td>3.0814</td>\n",
       "    </tr>\n",
       "    <tr>\n",
       "      <th>4</th>\n",
       "      <td>2014-01-13</td>\n",
       "      <td>545.940</td>\n",
       "      <td>0.0</td>\n",
       "      <td>6</td>\n",
       "      <td>87.3504</td>\n",
       "    </tr>\n",
       "    <tr>\n",
       "      <th>...</th>\n",
       "      <td>...</td>\n",
       "      <td>...</td>\n",
       "      <td>...</td>\n",
       "      <td>...</td>\n",
       "      <td>...</td>\n",
       "    </tr>\n",
       "    <tr>\n",
       "      <th>2116</th>\n",
       "      <td>2017-12-29</td>\n",
       "      <td>258.750</td>\n",
       "      <td>0.0</td>\n",
       "      <td>3</td>\n",
       "      <td>77.6250</td>\n",
       "    </tr>\n",
       "    <tr>\n",
       "      <th>2117</th>\n",
       "      <td>2017-12-29</td>\n",
       "      <td>1207.840</td>\n",
       "      <td>0.0</td>\n",
       "      <td>8</td>\n",
       "      <td>314.0384</td>\n",
       "    </tr>\n",
       "    <tr>\n",
       "      <th>2118</th>\n",
       "      <td>2017-12-29</td>\n",
       "      <td>101.120</td>\n",
       "      <td>0.0</td>\n",
       "      <td>8</td>\n",
       "      <td>37.4144</td>\n",
       "    </tr>\n",
       "    <tr>\n",
       "      <th>2119</th>\n",
       "      <td>2017-12-29</td>\n",
       "      <td>300.980</td>\n",
       "      <td>0.0</td>\n",
       "      <td>1</td>\n",
       "      <td>87.2842</td>\n",
       "    </tr>\n",
       "    <tr>\n",
       "      <th>2120</th>\n",
       "      <td>2017-12-30</td>\n",
       "      <td>323.136</td>\n",
       "      <td>0.2</td>\n",
       "      <td>4</td>\n",
       "      <td>12.1176</td>\n",
       "    </tr>\n",
       "  </tbody>\n",
       "</table>\n",
       "<p>2121 rows × 5 columns</p>\n",
       "</div>"
      ],
      "text/plain": [
       "     Order Date     Sales  Discount  Quantity    Profit\n",
       "0    2014-01-06  2573.820       0.0         9  746.4078\n",
       "1    2014-01-07    76.728       0.6         3  -53.7096\n",
       "2    2014-01-10    51.940       0.0         1   21.2954\n",
       "3    2014-01-11     9.940       0.0         2    3.0814\n",
       "4    2014-01-13   545.940       0.0         6   87.3504\n",
       "...         ...       ...       ...       ...       ...\n",
       "2116 2017-12-29   258.750       0.0         3   77.6250\n",
       "2117 2017-12-29  1207.840       0.0         8  314.0384\n",
       "2118 2017-12-29   101.120       0.0         8   37.4144\n",
       "2119 2017-12-29   300.980       0.0         1   87.2842\n",
       "2120 2017-12-30   323.136       0.2         4   12.1176\n",
       "\n",
       "[2121 rows x 5 columns]"
      ]
     },
     "execution_count": 16,
     "metadata": {},
     "output_type": "execute_result"
    }
   ],
   "source": [
    "store2"
   ]
  },
  {
   "cell_type": "code",
   "execution_count": 17,
   "metadata": {},
   "outputs": [
    {
     "data": {
      "text/plain": [
       "DatetimeIndex(['2014-01-06', '2014-01-07', '2014-01-10', '2014-01-11',\n",
       "               '2014-01-13', '2014-01-13', '2014-01-14', '2014-01-16',\n",
       "               '2014-01-19', '2014-01-20',\n",
       "               ...\n",
       "               '2017-12-28', '2017-12-28', '2017-12-28', '2017-12-29',\n",
       "               '2017-12-29', '2017-12-29', '2017-12-29', '2017-12-29',\n",
       "               '2017-12-29', '2017-12-30'],\n",
       "              dtype='datetime64[ns]', name='Order Date', length=2121, freq=None)"
      ]
     },
     "execution_count": 17,
     "metadata": {},
     "output_type": "execute_result"
    }
   ],
   "source": [
    "#set 'Order Date' as index\n",
    "store2 = store2.set_index('Order Date')\n",
    "store2.index"
   ]
  },
  {
   "cell_type": "code",
   "execution_count": 18,
   "metadata": {},
   "outputs": [
    {
     "data": {
      "text/html": [
       "<div>\n",
       "<style scoped>\n",
       "    .dataframe tbody tr th:only-of-type {\n",
       "        vertical-align: middle;\n",
       "    }\n",
       "\n",
       "    .dataframe tbody tr th {\n",
       "        vertical-align: top;\n",
       "    }\n",
       "\n",
       "    .dataframe thead th {\n",
       "        text-align: right;\n",
       "    }\n",
       "</style>\n",
       "<table border=\"1\" class=\"dataframe\">\n",
       "  <thead>\n",
       "    <tr style=\"text-align: right;\">\n",
       "      <th></th>\n",
       "      <th>Sales</th>\n",
       "      <th>Discount</th>\n",
       "      <th>Quantity</th>\n",
       "      <th>Profit</th>\n",
       "    </tr>\n",
       "    <tr>\n",
       "      <th>Order Date</th>\n",
       "      <th></th>\n",
       "      <th></th>\n",
       "      <th></th>\n",
       "      <th></th>\n",
       "    </tr>\n",
       "  </thead>\n",
       "  <tbody>\n",
       "    <tr>\n",
       "      <th>2014-01-06</th>\n",
       "      <td>2573.820</td>\n",
       "      <td>0.0</td>\n",
       "      <td>9</td>\n",
       "      <td>746.4078</td>\n",
       "    </tr>\n",
       "    <tr>\n",
       "      <th>2014-01-07</th>\n",
       "      <td>76.728</td>\n",
       "      <td>0.6</td>\n",
       "      <td>3</td>\n",
       "      <td>-53.7096</td>\n",
       "    </tr>\n",
       "    <tr>\n",
       "      <th>2014-01-10</th>\n",
       "      <td>51.940</td>\n",
       "      <td>0.0</td>\n",
       "      <td>1</td>\n",
       "      <td>21.2954</td>\n",
       "    </tr>\n",
       "    <tr>\n",
       "      <th>2014-01-11</th>\n",
       "      <td>9.940</td>\n",
       "      <td>0.0</td>\n",
       "      <td>2</td>\n",
       "      <td>3.0814</td>\n",
       "    </tr>\n",
       "    <tr>\n",
       "      <th>2014-01-13</th>\n",
       "      <td>545.940</td>\n",
       "      <td>0.0</td>\n",
       "      <td>6</td>\n",
       "      <td>87.3504</td>\n",
       "    </tr>\n",
       "    <tr>\n",
       "      <th>...</th>\n",
       "      <td>...</td>\n",
       "      <td>...</td>\n",
       "      <td>...</td>\n",
       "      <td>...</td>\n",
       "    </tr>\n",
       "    <tr>\n",
       "      <th>2017-12-29</th>\n",
       "      <td>258.750</td>\n",
       "      <td>0.0</td>\n",
       "      <td>3</td>\n",
       "      <td>77.6250</td>\n",
       "    </tr>\n",
       "    <tr>\n",
       "      <th>2017-12-29</th>\n",
       "      <td>1207.840</td>\n",
       "      <td>0.0</td>\n",
       "      <td>8</td>\n",
       "      <td>314.0384</td>\n",
       "    </tr>\n",
       "    <tr>\n",
       "      <th>2017-12-29</th>\n",
       "      <td>101.120</td>\n",
       "      <td>0.0</td>\n",
       "      <td>8</td>\n",
       "      <td>37.4144</td>\n",
       "    </tr>\n",
       "    <tr>\n",
       "      <th>2017-12-29</th>\n",
       "      <td>300.980</td>\n",
       "      <td>0.0</td>\n",
       "      <td>1</td>\n",
       "      <td>87.2842</td>\n",
       "    </tr>\n",
       "    <tr>\n",
       "      <th>2017-12-30</th>\n",
       "      <td>323.136</td>\n",
       "      <td>0.2</td>\n",
       "      <td>4</td>\n",
       "      <td>12.1176</td>\n",
       "    </tr>\n",
       "  </tbody>\n",
       "</table>\n",
       "<p>2121 rows × 4 columns</p>\n",
       "</div>"
      ],
      "text/plain": [
       "               Sales  Discount  Quantity    Profit\n",
       "Order Date                                        \n",
       "2014-01-06  2573.820       0.0         9  746.4078\n",
       "2014-01-07    76.728       0.6         3  -53.7096\n",
       "2014-01-10    51.940       0.0         1   21.2954\n",
       "2014-01-11     9.940       0.0         2    3.0814\n",
       "2014-01-13   545.940       0.0         6   87.3504\n",
       "...              ...       ...       ...       ...\n",
       "2017-12-29   258.750       0.0         3   77.6250\n",
       "2017-12-29  1207.840       0.0         8  314.0384\n",
       "2017-12-29   101.120       0.0         8   37.4144\n",
       "2017-12-29   300.980       0.0         1   87.2842\n",
       "2017-12-30   323.136       0.2         4   12.1176\n",
       "\n",
       "[2121 rows x 4 columns]"
      ]
     },
     "execution_count": 18,
     "metadata": {},
     "output_type": "execute_result"
    }
   ],
   "source": [
    "store2"
   ]
  },
  {
   "cell_type": "code",
   "execution_count": 19,
   "metadata": {},
   "outputs": [
    {
     "name": "stdout",
     "output_type": "stream",
     "text": [
      "Order Date\n",
      "2014-01-01    312.126250\n",
      "2014-02-01    262.808286\n",
      "2014-03-01    441.635030\n",
      "2014-04-01    305.570654\n",
      "2014-05-01    288.032792\n",
      "2014-06-01    440.204187\n",
      "2014-07-01    327.910636\n",
      "2014-08-01    305.014437\n",
      "2014-09-01    425.294300\n",
      "2014-10-01    384.507719\n",
      "2014-11-01    347.820527\n",
      "2014-12-01    414.134682\n",
      "2015-01-01    782.662773\n",
      "2015-02-01    284.943091\n",
      "2015-03-01    446.420821\n",
      "2015-04-01    317.445409\n",
      "2015-05-01    312.498350\n",
      "2015-06-01    296.699192\n",
      "2015-07-01    341.860500\n",
      "2015-08-01    301.206006\n",
      "2015-09-01    437.883717\n",
      "2015-10-01    334.072875\n",
      "2015-11-01    401.049773\n",
      "2015-12-01    360.715925\n",
      "2016-01-01    346.488318\n",
      "2016-02-01    206.607947\n",
      "2016-03-01    312.221756\n",
      "2016-04-01    377.488286\n",
      "2016-05-01    351.624070\n",
      "2016-06-01    343.962421\n",
      "2016-07-01    335.090231\n",
      "2016-08-01    430.456286\n",
      "2016-09-01    328.468445\n",
      "2016-10-01    247.345354\n",
      "2016-11-01    392.390479\n",
      "2016-12-01    436.651369\n",
      "2017-01-01    248.501333\n",
      "2017-02-01    264.089900\n",
      "2017-03-01    286.669600\n",
      "2017-04-01    206.044502\n",
      "2017-05-01    319.953928\n",
      "2017-06-01    372.717386\n",
      "2017-07-01    227.173500\n",
      "2017-08-01    395.945487\n",
      "2017-09-01    349.737422\n",
      "2017-10-01    308.226313\n",
      "2017-11-01    374.310253\n",
      "2017-12-01    296.296857\n",
      "Freq: MS, Name: Sales, dtype: float64\n"
     ]
    }
   ],
   "source": [
    "y = store2['Sales'].resample('MS').mean()\n",
    "print (y)"
   ]
  },
  {
   "cell_type": "code",
   "execution_count": 20,
   "metadata": {},
   "outputs": [
    {
     "data": {
      "image/png": "[encoded data removed]",
      "text/plain": [
       "<Figure size 1080x432 with 4 Axes>"
      ]
     },
     "metadata": {
      "needs_background": "light"
     },
     "output_type": "display_data"
    }
   ],
   "source": [
    "# Decomposition means - you are breaking the TS data into the each component:\n",
    "#Trend | Seasonality | Irregularity\n",
    "#__________________________________\n",
    "from statsmodels.tsa.seasonal import seasonal_decompose\n",
    "decomposition = seasonal_decompose(y)\n",
    "\n",
    "trend = decomposition.trend\n",
    "\n",
    "seasonal = decomposition.seasonal\n",
    "\n",
    "residual = decomposition.resid\n",
    "\n",
    "plt.subplot(411)\n",
    "plt.plot(y, label='Original')\n",
    "plt.legend(loc='best')\n",
    "plt.subplot(412)\n",
    "plt.plot(trend, label='Trend')\n",
    "plt.legend(loc='best')\n",
    "plt.subplot(413)\n",
    "plt.plot(seasonal,label='Seasonality')\n",
    "plt.legend(loc='best')\n",
    "plt.subplot(414)\n",
    "plt.plot(residual, label='Residuals')\n",
    "plt.legend(loc='best')\n",
    "plt.tight_layout()"
   ]
  },
  {
   "cell_type": "code",
   "execution_count": 21,
   "metadata": {},
   "outputs": [
    {
     "data": {
      "image/png": "[encoded data removed]",
      "text/plain": [
       "<Figure size 1080x432 with 4 Axes>"
      ]
     },
     "metadata": {
      "needs_background": "light"
     },
     "output_type": "display_data"
    }
   ],
   "source": [
    "import statsmodels.api as sm\n",
    "decomposition = sm.tsa.seasonal_decompose(y, model = 'additive')\n",
    "fig = decomposition.plot()\n",
    "plt.show()"
   ]
  },
  {
   "cell_type": "markdown",
   "metadata": {},
   "source": [
    "#### ADF TEST"
   ]
  },
  {
   "cell_type": "code",
   "execution_count": 22,
   "metadata": {},
   "outputs": [
    {
     "data": {
      "text/plain": [
       "(-6.962405221214859,\n",
       " 9.093398510006677e-10,\n",
       " 0,\n",
       " 47,\n",
       " {'1%': -3.5778480370438146,\n",
       "  '5%': -2.925338105429433,\n",
       "  '10%': -2.6007735310095064},\n",
       " 446.50775372117755)"
      ]
     },
     "execution_count": 22,
     "metadata": {},
     "output_type": "execute_result"
    }
   ],
   "source": [
    "#We are now going to apply - ADF [Augmented Diceky Fuller Method] \n",
    "\n",
    "# Objective-------to check if time series is stationary or not I.\n",
    "\n",
    "from statsmodels.tsa.stattools import adfuller\n",
    "dftest=adfuller(y, autolag='AIC')\n",
    "(dftest)\n",
    "\n",
    "# Here as per the below results, I could see the P value is .0000845 and test static is -4.69.\n",
    "# Hence I have to accpet the NULL Hypothesis \n",
    "# Saying the TS is Stationary"
   ]
  },
  {
   "cell_type": "code",
   "execution_count": 23,
   "metadata": {},
   "outputs": [],
   "source": [
    "# adf : float\n",
    "#     Test statistic\n",
    "# pvalue : float\n",
    "#     MacKinnon's approximate p-value based on MacKinnon (1994, 2010)\n",
    "# usedlag : int\n",
    "#     Number of lags used\n",
    "# nobs : int\n",
    "#     Number of observations used for the ADF regression and calculation of\n",
    "#     the critical values\n",
    "# critical values : dict\n",
    "#     Critical values for the test statistic at the 1 %, 5 %, and 10 %\n",
    "#     levels. Based on MacKinnon (2010)\n",
    "# icbest : float\n",
    "#     The maximized information criterion if autolag is not None.\n",
    "# resstore : ResultStore, optional\n",
    "#     A dummy class with results attached as attributes"
   ]
  },
  {
   "cell_type": "code",
   "execution_count": 24,
   "metadata": {},
   "outputs": [
    {
     "data": {
      "image/png": "[encoded data removed]",
      "text/plain": [
       "<Figure size 1080x432 with 1 Axes>"
      ]
     },
     "metadata": {
      "needs_background": "light"
     },
     "output_type": "display_data"
    }
   ],
   "source": [
    "y.plot(figsize = (15, 6))\n",
    "plt.show()"
   ]
  },
  {
   "cell_type": "markdown",
   "metadata": {},
   "source": [
    "# ACF and PACF plots:"
   ]
  },
  {
   "cell_type": "markdown",
   "metadata": {},
   "source": [
    "**ACF - Q value\n",
    "PACF - P value\n",
    "In this plot, the two dotted lines on either sides of 0 are the confidence interevals. These can be used to determine the ‘p’ and ‘q’ values as:**\n",
    "\n",
    "**p – The lag value where the PACF chart crosses the upper confidence interval for the first time.**\n",
    "\n",
    "**q – The lag value where the ACF chart crosses the upper confidence interval.**"
   ]
  },
  {
   "cell_type": "code",
   "execution_count": 25,
   "metadata": {},
   "outputs": [
    {
     "name": "stderr",
     "output_type": "stream",
     "text": [
      "C:\\Users\\hp\\anaconda3\\lib\\site-packages\\statsmodels\\tsa\\stattools.py:667: FutureWarning: fft=True will become the default after the release of the 0.12 release of statsmodels. To suppress this warning, explicitly set fft=False.\n",
      "  warnings.warn(\n"
     ]
    }
   ],
   "source": [
    "#common method - ARIMA (Autoregressive integrated Moving Average)\n",
    "#ACF and PACF plots:\n",
    "from statsmodels.tsa.stattools import acf, pacf\n",
    "lag_acf = acf(y, nlags=12)\n",
    "lag_pacf = pacf(y, nlags=12, method='ols')"
   ]
  },
  {
   "cell_type": "code",
   "execution_count": 26,
   "metadata": {},
   "outputs": [
    {
     "data": {
      "text/plain": [
       "Text(0.5, 1.0, 'Autocorrelation Function')"
      ]
     },
     "execution_count": 26,
     "metadata": {},
     "output_type": "execute_result"
    },
    {
     "data": {
      "image/png": "[encoded data removed]",
      "text/plain": [
       "<Figure size 1080x432 with 1 Axes>"
      ]
     },
     "metadata": {
      "needs_background": "light"
     },
     "output_type": "display_data"
    }
   ],
   "source": [
    "plt.subplot(121) \n",
    "plt.plot(lag_acf)\n",
    "plt.axhline(y=0,linestyle='--',color='gray')\n",
    "plt.axhline(y=-1.96/np.sqrt(len(y)),linestyle='--',color='gray')\n",
    "plt.axhline(y=1.96/np.sqrt(len(y)),linestyle='--',color='gray')\n",
    "plt.title('Autocorrelation Function')"
   ]
  },
  {
   "cell_type": "code",
   "execution_count": 27,
   "metadata": {},
   "outputs": [
    {
     "data": {
      "image/png": "[encoded data removed]",
      "text/plain": [
       "<Figure size 1080x432 with 1 Axes>"
      ]
     },
     "metadata": {
      "needs_background": "light"
     },
     "output_type": "display_data"
    }
   ],
   "source": [
    "#Plot PACF:\n",
    "plt.subplot(122)\n",
    "plt.plot(lag_pacf)\n",
    "plt.axhline(y=0,linestyle='--',color='gray')\n",
    "\n",
    "plt.axhline(y=-1.96/np.sqrt(len(y)),linestyle='--',color='gray')\n",
    "\n",
    "plt.axhline(y=1.96/np.sqrt(len(y)),linestyle='--',color='gray')\n",
    "\n",
    "plt.title('Partial Autocorrelation Function')\n",
    "plt.tight_layout()"
   ]
  },
  {
   "cell_type": "markdown",
   "metadata": {},
   "source": [
    "# ***Implementation Of Auto-Arima Model to get Optimum Values of P,D,Q***"
   ]
  },
  {
   "cell_type": "code",
   "execution_count": 28,
   "metadata": {},
   "outputs": [],
   "source": [
    "from pmdarima import auto_arima\n",
    "\n",
    "import warnings\n",
    "warnings.filterwarnings(\"ignore\")"
   ]
  },
  {
   "cell_type": "code",
   "execution_count": 29,
   "metadata": {},
   "outputs": [
    {
     "name": "stdout",
     "output_type": "stream",
     "text": [
      "Performing stepwise search to minimize aic\n",
      " ARIMA(2,0,2)(0,0,0)[0] intercept   : AIC=576.445, Time=0.12 sec\n",
      " ARIMA(0,0,0)(0,0,0)[0] intercept   : AIC=571.039, Time=0.01 sec\n",
      " ARIMA(1,0,0)(0,0,0)[0] intercept   : AIC=572.968, Time=0.03 sec\n",
      " ARIMA(0,0,1)(0,0,0)[0] intercept   : AIC=572.974, Time=0.04 sec\n",
      " ARIMA(0,0,0)(0,0,0)[0]             : AIC=702.671, Time=0.00 sec\n",
      " ARIMA(1,0,1)(0,0,0)[0] intercept   : AIC=575.024, Time=0.03 sec\n",
      "\n",
      "Best model:  ARIMA(0,0,0)(0,0,0)[0] intercept\n",
      "Total fit time: 0.230 seconds\n"
     ]
    },
    {
     "data": {
      "text/html": [
       "<table class=\"simpletable\">\n",
       "<caption>SARIMAX Results</caption>\n",
       "<tr>\n",
       "  <th>Dep. Variable:</th>           <td>y</td>        <th>  No. Observations:  </th>    <td>48</td>   \n",
       "</tr>\n",
       "<tr>\n",
       "  <th>Model:</th>                <td>SARIMAX</td>     <th>  Log Likelihood     </th> <td>-283.519</td>\n",
       "</tr>\n",
       "<tr>\n",
       "  <th>Date:</th>            <td>Sun, 28 Mar 2021</td> <th>  AIC                </th>  <td>571.039</td>\n",
       "</tr>\n",
       "<tr>\n",
       "  <th>Time:</th>                <td>01:01:58</td>     <th>  BIC                </th>  <td>574.781</td>\n",
       "</tr>\n",
       "<tr>\n",
       "  <th>Sample:</th>                  <td>0</td>        <th>  HQIC               </th>  <td>572.453</td>\n",
       "</tr>\n",
       "<tr>\n",
       "  <th></th>                       <td> - 48</td>      <th>                     </th>     <td> </td>   \n",
       "</tr>\n",
       "<tr>\n",
       "  <th>Covariance Type:</th>        <td>opg</td>       <th>                     </th>     <td> </td>   \n",
       "</tr>\n",
       "</table>\n",
       "<table class=\"simpletable\">\n",
       "<tr>\n",
       "      <td></td>         <th>coef</th>     <th>std err</th>      <th>z</th>      <th>P>|z|</th>  <th>[0.025</th>    <th>0.975]</th>  \n",
       "</tr>\n",
       "<tr>\n",
       "  <th>intercept</th> <td>  346.4787</td> <td>   17.318</td> <td>   20.007</td> <td> 0.000</td> <td>  312.536</td> <td>  380.422</td>\n",
       "</tr>\n",
       "<tr>\n",
       "  <th>sigma2</th>    <td> 7906.4292</td> <td>  901.099</td> <td>    8.774</td> <td> 0.000</td> <td> 6140.308</td> <td> 9672.550</td>\n",
       "</tr>\n",
       "</table>\n",
       "<table class=\"simpletable\">\n",
       "<tr>\n",
       "  <th>Ljung-Box (L1) (Q):</th>     <td>0.08</td> <th>  Jarque-Bera (JB):  </th> <td>229.60</td>\n",
       "</tr>\n",
       "<tr>\n",
       "  <th>Prob(Q):</th>                <td>0.78</td> <th>  Prob(JB):          </th>  <td>0.00</td> \n",
       "</tr>\n",
       "<tr>\n",
       "  <th>Heteroskedasticity (H):</th> <td>0.33</td> <th>  Skew:              </th>  <td>2.29</td> \n",
       "</tr>\n",
       "<tr>\n",
       "  <th>Prob(H) (two-sided):</th>    <td>0.03</td> <th>  Kurtosis:          </th>  <td>12.68</td>\n",
       "</tr>\n",
       "</table><br/><br/>Warnings:<br/>[1] Covariance matrix calculated using the outer product of gradients (complex-step)."
      ],
      "text/plain": [
       "<class 'statsmodels.iolib.summary.Summary'>\n",
       "\"\"\"\n",
       "                               SARIMAX Results                                \n",
       "==============================================================================\n",
       "Dep. Variable:                      y   No. Observations:                   48\n",
       "Model:                        SARIMAX   Log Likelihood                -283.519\n",
       "Date:                Sun, 28 Mar 2021   AIC                            571.039\n",
       "Time:                        01:01:58   BIC                            574.781\n",
       "Sample:                             0   HQIC                           572.453\n",
       "                                 - 48                                         \n",
       "Covariance Type:                  opg                                         \n",
       "==============================================================================\n",
       "                 coef    std err          z      P>|z|      [0.025      0.975]\n",
       "------------------------------------------------------------------------------\n",
       "intercept    346.4787     17.318     20.007      0.000     312.536     380.422\n",
       "sigma2      7906.4292    901.099      8.774      0.000    6140.308    9672.550\n",
       "===================================================================================\n",
       "Ljung-Box (L1) (Q):                   0.08   Jarque-Bera (JB):               229.60\n",
       "Prob(Q):                              0.78   Prob(JB):                         0.00\n",
       "Heteroskedasticity (H):               0.33   Skew:                             2.29\n",
       "Prob(H) (two-sided):                  0.03   Kurtosis:                        12.68\n",
       "===================================================================================\n",
       "\n",
       "Warnings:\n",
       "[1] Covariance matrix calculated using the outer product of gradients (complex-step).\n",
       "\"\"\""
      ]
     },
     "execution_count": 29,
     "metadata": {},
     "output_type": "execute_result"
    }
   ],
   "source": [
    "step_fit = auto_arima(y, trace=True, suppress_warnings=True)\n",
    "\n",
    "step_fit.summary()"
   ]
  },
  {
   "cell_type": "markdown",
   "metadata": {},
   "source": [
    "# Splliting the data for training and resting"
   ]
  },
  {
   "cell_type": "code",
   "execution_count": 30,
   "metadata": {},
   "outputs": [],
   "source": [
    "# split dataset between training and testing\n",
    "cutoff_30pct = len(y) - int(len(y)*0.3)\n",
    "y_train = y[:cutoff_30pct]\n",
    "y_test = y[cutoff_30pct:]"
   ]
  },
  {
   "cell_type": "code",
   "execution_count": 31,
   "metadata": {},
   "outputs": [
    {
     "name": "stdout",
     "output_type": "stream",
     "text": [
      "Order Date\n",
      "2014-01-01    312.126250\n",
      "2014-02-01    262.808286\n",
      "2014-03-01    441.635030\n",
      "2014-04-01    305.570654\n",
      "2014-05-01    288.032792\n",
      "2014-06-01    440.204187\n",
      "2014-07-01    327.910636\n",
      "2014-08-01    305.014437\n",
      "2014-09-01    425.294300\n",
      "2014-10-01    384.507719\n",
      "2014-11-01    347.820527\n",
      "2014-12-01    414.134682\n",
      "2015-01-01    782.662773\n",
      "2015-02-01    284.943091\n",
      "2015-03-01    446.420821\n",
      "2015-04-01    317.445409\n",
      "2015-05-01    312.498350\n",
      "2015-06-01    296.699192\n",
      "2015-07-01    341.860500\n",
      "2015-08-01    301.206006\n",
      "2015-09-01    437.883717\n",
      "2015-10-01    334.072875\n",
      "2015-11-01    401.049773\n",
      "2015-12-01    360.715925\n",
      "2016-01-01    346.488318\n",
      "2016-02-01    206.607947\n",
      "2016-03-01    312.221756\n",
      "2016-04-01    377.488286\n",
      "2016-05-01    351.624070\n",
      "2016-06-01    343.962421\n",
      "2016-07-01    335.090231\n",
      "2016-08-01    430.456286\n",
      "2016-09-01    328.468445\n",
      "2016-10-01    247.345354\n",
      "Freq: MS, Name: Sales, dtype: float64\n",
      "Order Date\n",
      "2016-11-01    392.390479\n",
      "2016-12-01    436.651369\n",
      "2017-01-01    248.501333\n",
      "2017-02-01    264.089900\n",
      "2017-03-01    286.669600\n",
      "2017-04-01    206.044502\n",
      "2017-05-01    319.953928\n",
      "2017-06-01    372.717386\n",
      "2017-07-01    227.173500\n",
      "2017-08-01    395.945487\n",
      "2017-09-01    349.737422\n",
      "2017-10-01    308.226313\n",
      "2017-11-01    374.310253\n",
      "2017-12-01    296.296857\n",
      "Freq: MS, Name: Sales, dtype: float64\n"
     ]
    }
   ],
   "source": [
    "print(y_train)\n",
    "print(y_test)"
   ]
  },
  {
   "cell_type": "markdown",
   "metadata": {},
   "source": [
    "# model training with train data"
   ]
  },
  {
   "cell_type": "code",
   "execution_count": 32,
   "metadata": {},
   "outputs": [
    {
     "name": "stdout",
     "output_type": "stream",
     "text": [
      "                              ARMA Model Results                              \n",
      "==============================================================================\n",
      "Dep. Variable:                  Sales   No. Observations:                   34\n",
      "Model:                     ARMA(0, 0)   Log Likelihood                -202.843\n",
      "Method:                           css   S.D. of innovations             94.351\n",
      "Date:                Sun, 28 Mar 2021   AIC                            409.686\n",
      "Time:                        01:01:58   BIC                            412.738\n",
      "Sample:                    01-01-2014   HQIC                           410.727\n",
      "                         - 10-01-2016                                         \n",
      "==============================================================================\n",
      "                 coef    std err          z      P>|z|      [0.025      0.975]\n",
      "------------------------------------------------------------------------------\n",
      "const        357.4197     16.181     22.089      0.000     325.705     389.134\n",
      "==============================================================================\n"
     ]
    }
   ],
   "source": [
    "# building the model with the parameters we've discovered and fitting it to the training set\n",
    "from statsmodels.tsa.arima_model import ARIMA\n",
    "model = ARIMA(y_train, order=(0,0,0)) \n",
    "arima_model_fit = model.fit(disp=-1)\n",
    "print(arima_model_fit.summary())"
   ]
  },
  {
   "cell_type": "code",
   "execution_count": 33,
   "metadata": {},
   "outputs": [
    {
     "data": {
      "text/html": [
       "<table class=\"simpletable\">\n",
       "<caption>ARMA Model Results</caption>\n",
       "<tr>\n",
       "  <th>Dep. Variable:</th>       <td>Sales</td>      <th>  No. Observations:  </th>    <td>34</td>   \n",
       "</tr>\n",
       "<tr>\n",
       "  <th>Model:</th>            <td>ARMA(1, 0)</td>    <th>  Log Likelihood     </th> <td>-202.733</td>\n",
       "</tr>\n",
       "<tr>\n",
       "  <th>Method:</th>             <td>css-mle</td>     <th>  S.D. of innovations</th>  <td>94.038</td> \n",
       "</tr>\n",
       "<tr>\n",
       "  <th>Date:</th>          <td>Sun, 28 Mar 2021</td> <th>  AIC                </th>  <td>411.466</td>\n",
       "</tr>\n",
       "<tr>\n",
       "  <th>Time:</th>              <td>01:01:59</td>     <th>  BIC                </th>  <td>416.045</td>\n",
       "</tr>\n",
       "<tr>\n",
       "  <th>Sample:</th>           <td>01-01-2014</td>    <th>  HQIC               </th>  <td>413.028</td>\n",
       "</tr>\n",
       "<tr>\n",
       "  <th></th>                 <td>- 10-01-2016</td>   <th>                     </th>     <td> </td>   \n",
       "</tr>\n",
       "</table>\n",
       "<table class=\"simpletable\">\n",
       "<tr>\n",
       "       <td></td>          <th>coef</th>     <th>std err</th>      <th>z</th>      <th>P>|z|</th>  <th>[0.025</th>    <th>0.975]</th>  \n",
       "</tr>\n",
       "<tr>\n",
       "  <th>const</th>       <td>  357.7638</td> <td>   14.967</td> <td>   23.903</td> <td> 0.000</td> <td>  328.428</td> <td>  387.099</td>\n",
       "</tr>\n",
       "<tr>\n",
       "  <th>ar.L1.Sales</th> <td>   -0.0810</td> <td>    0.173</td> <td>   -0.469</td> <td> 0.639</td> <td>   -0.419</td> <td>    0.257</td>\n",
       "</tr>\n",
       "</table>\n",
       "<table class=\"simpletable\">\n",
       "<caption>Roots</caption>\n",
       "<tr>\n",
       "    <td></td>   <th>            Real</th>  <th>         Imaginary</th> <th>         Modulus</th>  <th>        Frequency</th>\n",
       "</tr>\n",
       "<tr>\n",
       "  <th>AR.1</th> <td>         -12.3448</td> <td>          +0.0000j</td> <td>          12.3448</td> <td>           0.5000</td>\n",
       "</tr>\n",
       "</table>"
      ],
      "text/plain": [
       "<class 'statsmodels.iolib.summary.Summary'>\n",
       "\"\"\"\n",
       "                              ARMA Model Results                              \n",
       "==============================================================================\n",
       "Dep. Variable:                  Sales   No. Observations:                   34\n",
       "Model:                     ARMA(1, 0)   Log Likelihood                -202.733\n",
       "Method:                       css-mle   S.D. of innovations             94.038\n",
       "Date:                Sun, 28 Mar 2021   AIC                            411.466\n",
       "Time:                        01:01:59   BIC                            416.045\n",
       "Sample:                    01-01-2014   HQIC                           413.028\n",
       "                         - 10-01-2016                                         \n",
       "===============================================================================\n",
       "                  coef    std err          z      P>|z|      [0.025      0.975]\n",
       "-------------------------------------------------------------------------------\n",
       "const         357.7638     14.967     23.903      0.000     328.428     387.099\n",
       "ar.L1.Sales    -0.0810      0.173     -0.469      0.639      -0.419       0.257\n",
       "                                    Roots                                    \n",
       "=============================================================================\n",
       "                  Real          Imaginary           Modulus         Frequency\n",
       "-----------------------------------------------------------------------------\n",
       "AR.1          -12.3448           +0.0000j           12.3448            0.5000\n",
       "-----------------------------------------------------------------------------\n",
       "\"\"\""
      ]
     },
     "execution_count": 33,
     "metadata": {},
     "output_type": "execute_result"
    }
   ],
   "source": [
    "#fitting \n",
    "model2 = ARIMA(y_train, order=(1,0,0))\n",
    "model2 = model2.fit()\n",
    "model2.summary()"
   ]
  },
  {
   "cell_type": "markdown",
   "metadata": {},
   "source": [
    "# prediction of data"
   ]
  },
  {
   "cell_type": "code",
   "execution_count": 34,
   "metadata": {},
   "outputs": [
    {
     "name": "stdout",
     "output_type": "stream",
     "text": [
      "Order Date\n",
      "2016-11-01    366.708293\n",
      "2016-12-01    357.039192\n",
      "2017-01-01    357.822446\n",
      "2017-02-01    357.758998\n",
      "2017-03-01    357.764138\n",
      "2017-04-01    357.763721\n",
      "2017-05-01    357.763755\n",
      "2017-06-01    357.763752\n",
      "2017-07-01    357.763753\n",
      "2017-08-01    357.763753\n",
      "2017-09-01    357.763753\n",
      "2017-10-01    357.763753\n",
      "2017-11-01    357.763753\n",
      "2017-12-01    357.763753\n",
      "Freq: MS, dtype: float64\n"
     ]
    }
   ],
   "source": [
    "\n",
    "start = len(y_train)\n",
    "end = len(y_train) + len(y_test) - 1\n",
    "pred = model2.predict(start = start, end = end, typ = 'levels')\n",
    "pred.index = y.index[start: end+1]\n",
    "print(pred)"
   ]
  },
  {
   "cell_type": "code",
   "execution_count": 35,
   "metadata": {},
   "outputs": [
    {
     "data": {
      "text/plain": [
       "<AxesSubplot:xlabel='Order Date'>"
      ]
     },
     "execution_count": 35,
     "metadata": {},
     "output_type": "execute_result"
    },
    {
     "data": {
      "image/png": "[encoded data removed]",
      "text/plain": [
       "<Figure size 1080x432 with 1 Axes>"
      ]
     },
     "metadata": {
      "needs_background": "light"
     },
     "output_type": "display_data"
    }
   ],
   "source": [
    "pred.plot(legend = True, label = \"prediciting\")\n",
    "y_test.plot(legend = True)"
   ]
  },
  {
   "cell_type": "code",
   "execution_count": 36,
   "metadata": {},
   "outputs": [
    {
     "name": "stdout",
     "output_type": "stream",
     "text": [
      "5895.073778713439\n",
      "76.77938381306168\n"
     ]
    }
   ],
   "source": [
    "from sklearn.metrics import mean_squared_error\n",
    "\n",
    "from math import sqrt\n",
    "\n",
    "print(mean_squared_error(pred,y_test))\n",
    "rmse=sqrt(mean_squared_error(pred,y_test))\n",
    "print(rmse)"
   ]
  },
  {
   "cell_type": "markdown",
   "metadata": {},
   "source": [
    "# Model Training with whole dataset"
   ]
  },
  {
   "cell_type": "code",
   "execution_count": 37,
   "metadata": {},
   "outputs": [],
   "source": [
    "from statsmodels.tsa.arima_model import ARIMA\n",
    "\n",
    "model = ARIMA(y, order=(0,0,0)) "
   ]
  },
  {
   "cell_type": "code",
   "execution_count": 38,
   "metadata": {},
   "outputs": [
    {
     "data": {
      "text/plain": [
       "Order Date\n",
       "2014-01-01    346.478737\n",
       "2014-02-01    346.478737\n",
       "2014-03-01    346.478737\n",
       "2014-04-01    346.478737\n",
       "2014-05-01    346.478737\n",
       "2014-06-01    346.478737\n",
       "2014-07-01    346.478737\n",
       "2014-08-01    346.478737\n",
       "2014-09-01    346.478737\n",
       "2014-10-01    346.478737\n",
       "2014-11-01    346.478737\n",
       "2014-12-01    346.478737\n",
       "2015-01-01    346.478737\n",
       "2015-02-01    346.478737\n",
       "2015-03-01    346.478737\n",
       "2015-04-01    346.478737\n",
       "2015-05-01    346.478737\n",
       "2015-06-01    346.478737\n",
       "2015-07-01    346.478737\n",
       "2015-08-01    346.478737\n",
       "2015-09-01    346.478737\n",
       "2015-10-01    346.478737\n",
       "2015-11-01    346.478737\n",
       "2015-12-01    346.478737\n",
       "2016-01-01    346.478737\n",
       "2016-02-01    346.478737\n",
       "2016-03-01    346.478737\n",
       "2016-04-01    346.478737\n",
       "2016-05-01    346.478737\n",
       "2016-06-01    346.478737\n",
       "2016-07-01    346.478737\n",
       "2016-08-01    346.478737\n",
       "2016-09-01    346.478737\n",
       "2016-10-01    346.478737\n",
       "2016-11-01    346.478737\n",
       "2016-12-01    346.478737\n",
       "2017-01-01    346.478737\n",
       "2017-02-01    346.478737\n",
       "2017-03-01    346.478737\n",
       "2017-04-01    346.478737\n",
       "2017-05-01    346.478737\n",
       "2017-06-01    346.478737\n",
       "2017-07-01    346.478737\n",
       "2017-08-01    346.478737\n",
       "2017-09-01    346.478737\n",
       "2017-10-01    346.478737\n",
       "2017-11-01    346.478737\n",
       "2017-12-01    346.478737\n",
       "Freq: MS, dtype: float64"
      ]
     },
     "execution_count": 38,
     "metadata": {},
     "output_type": "execute_result"
    }
   ],
   "source": [
    "#fitting\n",
    "model = model.fit() \n",
    "\n",
    "model.fittedvalues"
   ]
  },
  {
   "cell_type": "code",
   "execution_count": 39,
   "metadata": {},
   "outputs": [
    {
     "name": "stdout",
     "output_type": "stream",
     "text": [
      "                              ARMA Model Results                              \n",
      "==============================================================================\n",
      "Dep. Variable:                  Sales   No. Observations:                   48\n",
      "Model:                     ARMA(0, 0)   Log Likelihood                -283.519\n",
      "Method:                           css   S.D. of innovations             88.918\n",
      "Date:                Sun, 28 Mar 2021   AIC                            571.039\n",
      "Time:                        01:01:59   BIC                            574.781\n",
      "Sample:                    01-01-2014   HQIC                           572.453\n",
      "                         - 12-01-2017                                         \n",
      "==============================================================================\n",
      "                 coef    std err          z      P>|z|      [0.025      0.975]\n",
      "------------------------------------------------------------------------------\n",
      "const        346.4787     12.834     26.996      0.000     321.324     371.633\n",
      "==============================================================================\n"
     ]
    }
   ],
   "source": [
    "print(model.summary())"
   ]
  },
  {
   "cell_type": "markdown",
   "metadata": {},
   "source": [
    "# Future sales prediction"
   ]
  },
  {
   "cell_type": "code",
   "execution_count": 43,
   "metadata": {},
   "outputs": [
    {
     "name": "stdout",
     "output_type": "stream",
     "text": [
      "2017-12-31    346.478737\n",
      "2018-01-01    346.478737\n",
      "2018-01-02    346.478737\n",
      "2018-01-03    346.478737\n",
      "2018-01-04    346.478737\n",
      "                 ...    \n",
      "2018-12-27    346.478737\n",
      "2018-12-28    346.478737\n",
      "2018-12-29    346.478737\n",
      "2018-12-30    346.478737\n",
      "2018-12-31    346.478737\n",
      "Freq: D, Name: Arima Predictions, Length: 366, dtype: float64\n"
     ]
    }
   ],
   "source": [
    "future_dates = pd.date_range(start = '2017-12-31', end = '2018-12-31')\n",
    "prediction = model.predict(start = len(y), end = len(y)+365, exog=None,dynamic = False).rename('Arima Predictions')\n",
    "prediction.index = future_dates\n",
    "print(prediction)"
   ]
  },
  {
   "cell_type": "code",
   "execution_count": 44,
   "metadata": {},
   "outputs": [
    {
     "data": {
      "text/plain": [
       "<AxesSubplot:>"
      ]
     },
     "execution_count": 44,
     "metadata": {},
     "output_type": "execute_result"
    },
    {
     "data": {
      "image/png": "[encoded data removed]",
      "text/plain": [
       "<Figure size 864x360 with 1 Axes>"
      ]
     },
     "metadata": {
      "needs_background": "light"
     },
     "output_type": "display_data"
    }
   ],
   "source": [
    "prediction.plot(figsize=(12, 5), legend = True)"
   ]
  },
  {
   "cell_type": "code",
   "execution_count": 45,
   "metadata": {},
   "outputs": [
    {
     "name": "stdout",
     "output_type": "stream",
     "text": [
      "Order Date\n",
      "2014-01-01    346.478737\n",
      "2014-02-01    346.478737\n",
      "2014-03-01    346.478737\n",
      "2014-04-01    346.478737\n",
      "2014-05-01    346.478737\n",
      "2014-06-01    346.478737\n",
      "2014-07-01    346.478737\n",
      "2014-08-01    346.478737\n",
      "2014-09-01    346.478737\n",
      "2014-10-01    346.478737\n",
      "2014-11-01    346.478737\n",
      "2014-12-01    346.478737\n",
      "2015-01-01    346.478737\n",
      "2015-02-01    346.478737\n",
      "2015-03-01    346.478737\n",
      "2015-04-01    346.478737\n",
      "2015-05-01    346.478737\n",
      "2015-06-01    346.478737\n",
      "2015-07-01    346.478737\n",
      "2015-08-01    346.478737\n",
      "2015-09-01    346.478737\n",
      "2015-10-01    346.478737\n",
      "2015-11-01    346.478737\n",
      "2015-12-01    346.478737\n",
      "2016-01-01    346.478737\n",
      "2016-02-01    346.478737\n",
      "2016-03-01    346.478737\n",
      "2016-04-01    346.478737\n",
      "2016-05-01    346.478737\n",
      "2016-06-01    346.478737\n",
      "2016-07-01    346.478737\n",
      "2016-08-01    346.478737\n",
      "2016-09-01    346.478737\n",
      "2016-10-01    346.478737\n",
      "2016-11-01    346.478737\n",
      "2016-12-01    346.478737\n",
      "2017-01-01    346.478737\n",
      "2017-02-01    346.478737\n",
      "2017-03-01    346.478737\n",
      "2017-04-01    346.478737\n",
      "2017-05-01    346.478737\n",
      "2017-06-01    346.478737\n",
      "2017-07-01    346.478737\n",
      "2017-08-01    346.478737\n",
      "2017-09-01    346.478737\n",
      "2017-10-01    346.478737\n",
      "2017-11-01    346.478737\n",
      "2017-12-01    346.478737\n",
      "Freq: MS, dtype: float64\n"
     ]
    },
    {
     "data": {
      "text/plain": [
       "pandas.core.series.Series"
      ]
     },
     "execution_count": 45,
     "metadata": {},
     "output_type": "execute_result"
    }
   ],
   "source": [
    "predictions_ARIMA_diff = pd.Series(model.fittedvalues, copy=True)\n",
    "print(predictions_ARIMA_diff)\n",
    "type(predictions_ARIMA_diff)"
   ]
  },
  {
   "cell_type": "code",
   "execution_count": 46,
   "metadata": {},
   "outputs": [
    {
     "name": "stdout",
     "output_type": "stream",
     "text": [
      "Order Date\n",
      "2014-01-01     346.478737\n",
      "2014-02-01     692.957474\n",
      "2014-03-01    1039.436211\n",
      "2014-04-01    1385.914948\n",
      "2014-05-01    1732.393685\n",
      "Freq: MS, dtype: float64\n"
     ]
    }
   ],
   "source": [
    "predictions_ARIMA_cumsum = predictions_ARIMA_diff.cumsum()\n",
    "print(predictions_ARIMA_cumsum.head())"
   ]
  },
  {
   "cell_type": "markdown",
   "metadata": {},
   "source": [
    "fitted values graph"
   ]
  },
  {
   "cell_type": "code",
   "execution_count": 52,
   "metadata": {},
   "outputs": [
    {
     "data": {
      "text/plain": [
       "Text(0.5, 1.0, 'RMSE: 88.9181')"
      ]
     },
     "execution_count": 52,
     "metadata": {},
     "output_type": "execute_result"
    },
    {
     "data": {
      "image/png": "[encoded data removed]",
      "text/plain": [
       "<Figure size 1080x432 with 1 Axes>"
      ]
     },
     "metadata": {
      "needs_background": "light"
     },
     "output_type": "display_data"
    }
   ],
   "source": [
    "plt.plot(y)\n",
    "plt.plot(predictions_ARIMA_diff)\n",
    "plt.title('RMSE: %.4f'% np.sqrt(sum((predictions_ARIMA_diff-y)**2)/len(y)))\n",
    "#plt.title('MAPE: %.4f'% np.mean((predictions_ARIMA_diff-y)/y))"
   ]
  },
  {
   "cell_type": "code",
   "execution_count": null,
   "metadata": {},
   "outputs": [],
   "source": []
  }
 ],
 "metadata": {
  "kernelspec": {
   "display_name": "Python 3",
   "language": "python",
   "name": "python3"
  },
  "language_info": {
   "codemirror_mode": {
    "name": "ipython",
    "version": 3
   },
   "file_extension": ".py",
   "mimetype": "text/x-python",
   "name": "python",
   "nbconvert_exporter": "python",
   "pygments_lexer": "ipython3",
   "version": "3.8.5"
  }
 },
 "nbformat": 4,
 "nbformat_minor": 4
}
